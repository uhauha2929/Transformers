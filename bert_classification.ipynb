{
 "cells": [
  {
   "cell_type": "code",
   "execution_count": 1,
   "metadata": {},
   "outputs": [
    {
     "data": {
      "text/plain": [
       "'1.1.0'"
      ]
     },
     "execution_count": 1,
     "metadata": {},
     "output_type": "execute_result"
    }
   ],
   "source": [
    "import torch\n",
    "import numpy as np\n",
    "import transformers as pt\n",
    "import pandas as pd\n",
    "torch.__version__"
   ]
  },
  {
   "cell_type": "code",
   "execution_count": 2,
   "metadata": {
    "scrolled": true
   },
   "outputs": [],
   "source": [
    "# bert_model, bert_tokenizer, pretrained_weights = (pt.DistilBertModel, pt.DistilBertTokenizer, 'distilbert-base-uncased')\n",
    "bert_model, bert_tokenizer, pretrained_weights = (pt.BertModel, pt.BertTokenizer, '/home/yzhao/data/bert/bert-base-uncased')\n",
    "\n",
    "tokenizer = bert_tokenizer.from_pretrained(pretrained_weights)\n",
    "bert_model = bert_model.from_pretrained(pretrained_weights)"
   ]
  },
  {
   "cell_type": "code",
   "execution_count": 3,
   "metadata": {},
   "outputs": [
    {
     "name": "stdout",
     "output_type": "stream",
     "text": [
      "30522\n",
      "['hello', 'world', 'how', 'are', 'you', '?']\n",
      "[7592, 2088, 2129, 2024, 2017, 1029]\n",
      "[101, 7592, 2088, 2129, 2024, 2017, 1029, 102]\n",
      "[CLS] [SEP] [PAD] [UNK]\n",
      "101 102 0 100\n",
      "101 102 0 100\n",
      "512\n"
     ]
    }
   ],
   "source": [
    "print(len(tokenizer.vocab))\n",
    "tokens = tokenizer.tokenize('Hello WORLD how ARE yoU?')\n",
    "print(tokens)\n",
    "indexes = tokenizer.convert_tokens_to_ids(tokens)\n",
    "print(indexes)\n",
    "print(tokenizer.encode('Hello WORLD how ARE yoU?', add_special_tokens=True))\n",
    "\n",
    "init_token = tokenizer.cls_token\n",
    "eos_token = tokenizer.sep_token\n",
    "pad_token = tokenizer.pad_token\n",
    "unk_token = tokenizer.unk_token\n",
    "print(init_token, eos_token, pad_token, unk_token)\n",
    "\n",
    "init_token_idx = tokenizer.convert_tokens_to_ids(init_token)\n",
    "eos_token_idx = tokenizer.convert_tokens_to_ids(eos_token)\n",
    "pad_token_idx = tokenizer.convert_tokens_to_ids(pad_token)\n",
    "unk_token_idx = tokenizer.convert_tokens_to_ids(unk_token)\n",
    "print(init_token_idx, eos_token_idx, pad_token_idx, unk_token_idx)\n",
    "\n",
    "init_token_idx = tokenizer.cls_token_id\n",
    "eos_token_idx = tokenizer.sep_token_id\n",
    "pad_token_idx = tokenizer.pad_token_id\n",
    "unk_token_idx = tokenizer.unk_token_id\n",
    "print(init_token_idx, eos_token_idx, pad_token_idx, unk_token_idx)\n",
    "\n",
    "max_input_length = tokenizer.max_model_input_sizes['bert-base-uncased']\n",
    "print(max_input_length)"
   ]
  },
  {
   "cell_type": "code",
   "execution_count": 4,
   "metadata": {},
   "outputs": [],
   "source": [
    "def load_data(path):\n",
    "    df = pd.read_csv(path, delimiter='\\t', header=None)\n",
    "    tokenized = df[0].apply((lambda x: tokenizer.encode(x, add_special_tokens=True)))\n",
    "    y = np.array(df[1].values)\n",
    "    max_len = max(map(lambda s:len(s), tokenized.values))\n",
    "    X_padded = np.array([i + [0]*(max_len-len(i)) for i in tokenized.values])\n",
    "    return X_padded, y"
   ]
  },
  {
   "cell_type": "code",
   "execution_count": 5,
   "metadata": {},
   "outputs": [
    {
     "name": "stdout",
     "output_type": "stream",
     "text": [
      "(6920, 67) (1821, 59)\n"
     ]
    }
   ],
   "source": [
    "X_train, y_train = load_data('SST2/train.tsv')\n",
    "X_test, y_test = load_data('SST2/test.tsv')\n",
    "\n",
    "print(X_train.shape, X_test.shape)"
   ]
  },
  {
   "cell_type": "code",
   "execution_count": 6,
   "metadata": {},
   "outputs": [],
   "source": [
    "dataset_train = torch.utils.data.TensorDataset(torch.tensor(X_train), torch.tensor(y_train))\n",
    "dataset_test = torch.utils.data.TensorDataset(torch.tensor(X_test), torch.tensor(y_test))\n",
    "data_loader_train = torch.utils.data.DataLoader(dataset_train, batch_size=32, shuffle=True)\n",
    "data_loader_test = torch.utils.data.DataLoader(dataset_test, batch_size=32, shuffle=False)"
   ]
  },
  {
   "cell_type": "code",
   "execution_count": 12,
   "metadata": {},
   "outputs": [],
   "source": [
    "from allennlp.modules.seq2vec_encoders import PytorchSeq2VecWrapper\n",
    "\n",
    "class BertGruClassifier(torch.nn.Module):\n",
    "    \n",
    "    def __init__(self, bert: torch.nn.Module, \n",
    "                 hidden_dim:int=128, output_dim:int=2, \n",
    "                 n_layers:int=2, bidirectional:bool=True, dropout=0.2):\n",
    "        super().__init__()\n",
    "        self.bert = bert\n",
    "        self.embedding_dim = bert.config.to_dict()['hidden_size']\n",
    "        self.hidden_dim=hidden_dim\n",
    "        self.output_dim=output_dim\n",
    "        \n",
    "        self.encoder = PytorchSeq2VecWrapper(\n",
    "            torch.nn.GRU(self.embedding_dim, self.hidden_dim, \n",
    "                         num_layers=n_layers, \n",
    "                         bidirectional=bidirectional, \n",
    "                         batch_first=True, \n",
    "                         dropout = 0 if n_layers < 2 else dropout))\n",
    "        \n",
    "        self.dropout = torch.nn.Dropout(dropout)\n",
    "        self.out = torch.nn.Linear(hidden_dim * 2 if bidirectional else hidden_dim, output_dim)\n",
    "    \n",
    "    def forward(self, inputs: torch.Tensor, mask: torch.Tensor=None) -> torch.Tensor:\n",
    "        embedded = self.bert(inputs, attention_mask=mask)[0]\n",
    "        hidden = self.encoder(self.dropout(embedded), mask)\n",
    "        output = self.out(hidden)\n",
    "        return output"
   ]
  },
  {
   "cell_type": "code",
   "execution_count": 13,
   "metadata": {},
   "outputs": [
    {
     "name": "stdout",
     "output_type": "stream",
     "text": [
      "The model has 986,626 trainable parameters\n"
     ]
    }
   ],
   "source": [
    "device = torch.device('cuda:3' if torch.cuda.is_available() else 'cpu')\n",
    "criterion = torch.nn.CrossEntropyLoss().to(device)\n",
    "model = BertGruClassifier(bert_model).to(device)\n",
    "optimizer = torch.optim.Adam(model.parameters(), lr=1e-3)\n",
    "\n",
    "for name, param in model.named_parameters():                \n",
    "    if name.startswith('bert'):\n",
    "        param.requires_grad = False\n",
    "\n",
    "def count_parameters(model):\n",
    "    return sum(p.numel() for p in model.parameters() if p.requires_grad)\n",
    "\n",
    "print(f'The model has {count_parameters(model):,} trainable parameters')"
   ]
  },
  {
   "cell_type": "code",
   "execution_count": 15,
   "metadata": {},
   "outputs": [
    {
     "name": "stdout",
     "output_type": "stream",
     "text": [
      "epoch: 0|acc:0.8764\n",
      "epoch: 1|acc:0.8704\n",
      "epoch: 2|acc:0.8622\n",
      "epoch: 3|acc:0.8781\n",
      "epoch: 4|acc:0.8534\n",
      "epoch: 5|acc:0.8797\n",
      "epoch: 6|acc:0.8825\n",
      "epoch: 7|acc:0.8682\n",
      "epoch: 8|acc:0.8677\n",
      "epoch: 9|acc:0.8655\n"
     ]
    }
   ],
   "source": [
    "for epoch in range(10):\n",
    "    count, losses = 0, 0\n",
    "    for i, (batch, y_batch) in enumerate(data_loader_train, start=1):\n",
    "        count += batch.size(0)\n",
    "        batch = batch.to(device)\n",
    "        y_batch = y_batch.to(device)\n",
    "        mask = (batch != pad_token_idx).float()\n",
    "        optimizer.zero_grad()\n",
    "        pred = model(batch, mask)\n",
    "        loss = criterion(pred, y_batch)\n",
    "        losses += loss.item()\n",
    "        print('{:.2%}|loss:{:.4f}'.format(count / len(dataset_train), losses / i), end='\\r')\n",
    "        loss.backward()\n",
    "        optimizer.step()\n",
    "    \n",
    "    with torch.no_grad():\n",
    "        correct, count = 0, 0\n",
    "        for (batch, y_batch) in data_loader_test:\n",
    "            count += batch.size(0)\n",
    "            batch = batch.to(device)\n",
    "            y_batch = y_batch.to(device)\n",
    "            mask = (batch != pad_token_idx).float()\n",
    "            pred = model(batch, mask)\n",
    "            correct += (pred.argmax(-1) == y_batch).long().sum().item()\n",
    "            print('{:.2%}|acc:{:.4f}'.format(count / len(dataset_test), correct/len(dataset_test)), end='\\r')\n",
    "        print('epoch:{:2d}|acc:{:.4f}'.format(epoch, correct/len(dataset_test)))"
   ]
  },
  {
   "cell_type": "code",
   "execution_count": null,
   "metadata": {},
   "outputs": [],
   "source": []
  }
 ],
 "metadata": {
  "kernelspec": {
   "display_name": "Python 3",
   "language": "python",
   "name": "python3"
  },
  "language_info": {
   "codemirror_mode": {
    "name": "ipython",
    "version": 3
   },
   "file_extension": ".py",
   "mimetype": "text/x-python",
   "name": "python",
   "nbconvert_exporter": "python",
   "pygments_lexer": "ipython3",
   "version": "3.6.2"
  }
 },
 "nbformat": 4,
 "nbformat_minor": 2
}
